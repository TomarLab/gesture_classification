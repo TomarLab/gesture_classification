{
 "cells": [
  {
   "cell_type": "markdown",
   "id": "7f232d70-8a10-447e-9c9a-c13e8072ca9e",
   "metadata": {},
   "source": [
    "## Training Gesture Classification data set on Neural Network"
   ]
  },
  {
   "cell_type": "code",
   "execution_count": 3,
   "id": "ed66d06b-9f9f-4e94-be70-21c145fa5612",
   "metadata": {},
   "outputs": [],
   "source": [
    "import pandas as pd\n",
    "import numpy as np\n",
    "\n",
    "import torch\n",
    "import torch.nn as nn\n",
    "import torch.optim as optim\n",
    "from torch.utils.data import DataLoader, TensorDataset\n",
    "from sklearn.model_selection import train_test_split"
   ]
  },
  {
   "cell_type": "code",
   "execution_count": 14,
   "id": "1eb05256-6892-497f-bbb1-858e010eb9f6",
   "metadata": {},
   "outputs": [],
   "source": [
    "# read input data\n",
    "input_dict = pd.read_pickle(\"./gestures_4d_full_compress_aligned.pkl\")"
   ]
  },
  {
   "cell_type": "code",
   "execution_count": 6,
   "id": "1845f2b3-32f5-47d9-986c-a2dc6e862ddc",
   "metadata": {},
   "outputs": [
    {
     "name": "stdout",
     "output_type": "stream",
     "text": [
      "shape of labels: (1, 6861)\n",
      "shape of data: (6861, 120, 201)\n"
     ]
    }
   ],
   "source": [
    "print(\"shape of labels:\", input_dict['labels'].shape)\n",
    "print(\"shape of data:\", input_dict['data'].shape)"
   ]
  },
  {
   "cell_type": "code",
   "execution_count": 17,
   "id": "fee7140e-a33d-4ffe-baff-8a15b8424c77",
   "metadata": {},
   "outputs": [],
   "source": [
    "# defineing labels id's of left, right and both side\n",
    "\n",
    "lefthand_idx = [2,5,8,18,20,23,26,29,31,33,35,37,39,41,44,52]\n",
    "righthand_idx = [1,4,7,9,17,19,22,25,28,30,32,34,36,38,40,43]\n",
    "bothhand_idx = [0,3,6,10,11,12,13,14,15,16,21,24,27,42,45,46,47,48,49,50,51]\n",
    "\n",
    "labels = np.array(input_dict['labels'])\n",
    "data = input_dict['data']\n",
    "\n",
    "# reshape labels\n",
    "labels = labels.reshape(-1)"
   ]
  },
  {
   "cell_type": "code",
   "execution_count": 19,
   "id": "3550d1cf-01db-4b15-a4b1-12535cd195fd",
   "metadata": {},
   "outputs": [],
   "source": [
    "# creating mask for left right and both hands\n",
    "# to filter the idx for each hands respectively \n",
    "\n",
    "# # initialize mask with zeros\n",
    "mask = np.zeros_like(labels, dtype=bool)        \n",
    "for id in lefthand_idx:\n",
    "    maskid = labels == id\n",
    "    mask = mask + maskid\n",
    "\n",
    "lefthand_data = data[mask]\n",
    "lefthand_labels = labels[mask]\n",
    "\n",
    "# reset mask\n",
    "mask = np.zeros_like(labels, dtype=bool)   \n",
    "for id in righthand_idx:\n",
    "    maskid = labels == id\n",
    "    mask = mask + maskid\n",
    "\n",
    "righthand_data = data[mask]\n",
    "righthand_labels = labels[mask]\n",
    "\n",
    "# reset mask again\n",
    "mask = np.zeros_like(labels, dtype=bool)        \n",
    "for id in bothhand_idx:\n",
    "    maskid = labels == id\n",
    "    mask = mask + maskid\n",
    "\n",
    "bothhand_data  = data[mask]\n",
    "bothhand_labels = labels[mask]"
   ]
  },
  {
   "cell_type": "code",
   "execution_count": 20,
   "id": "f903730a-87ea-4450-9924-fbd4dd352458",
   "metadata": {},
   "outputs": [
    {
     "name": "stdout",
     "output_type": "stream",
     "text": [
      "lefthand_data shape: (2034, 120, 201)\n",
      "righthand_data shape: (1995, 120, 201)\n",
      "bothhand_data shape: (2832, 120, 201)\n",
      "sum_data shape: 6861\n",
      "lefthand_labels shape: (2034,)\n",
      "righthand_labels shape: (1995,)\n",
      "bothhand_labels shape: (2832,)\n"
     ]
    }
   ],
   "source": [
    "print(\"lefthand_data shape:\", lefthand_data.shape)\n",
    "print(\"righthand_data shape:\", righthand_data.shape)\n",
    "print(\"bothhand_data shape:\", bothhand_data.shape)\n",
    "\n",
    "print(\"sum_data shape:\", lefthand_data.shape[0] + righthand_data.shape[0] + bothhand_data.shape[0])\n",
    "\n",
    "print(\"lefthand_labels shape:\", lefthand_labels.shape)\n",
    "print(\"righthand_labels shape:\", righthand_labels.shape)\n",
    "print(\"bothhand_labels shape:\", bothhand_labels.shape)"
   ]
  },
  {
   "cell_type": "code",
   "execution_count": 21,
   "id": "34f798c0-3e61-4aa9-9029-f9791b1f43c8",
   "metadata": {},
   "outputs": [
    {
     "name": "stdout",
     "output_type": "stream",
     "text": [
      "(2034,)\n",
      "(1995,)\n",
      "(2832,)\n"
     ]
    }
   ],
   "source": [
    "# Defining labels into three-target-classes\n",
    "# lefthand_labels = -1\n",
    "# righthand_labels = 1\n",
    "# bothhand_labels = 0\n",
    "\n",
    "lefthand_target = np.ones_like(lefthand_labels) * -1\n",
    "righthand_target = np.ones_like(righthand_labels)\n",
    "bothhand_target = np.zeros_like(bothhand_labels)\n",
    "\n",
    "print(lefthand_target.shape)\n",
    "print(righthand_target.shape)\n",
    "print(bothhand_target.shape)"
   ]
  },
  {
   "cell_type": "code",
   "execution_count": 22,
   "id": "fa738c98-9e90-4d61-91e7-09bd2417809b",
   "metadata": {},
   "outputs": [
    {
     "name": "stdout",
     "output_type": "stream",
     "text": [
      "(6861,)\n",
      "(6861, 120, 201)\n"
     ]
    }
   ],
   "source": [
    "all_labels = np.concatenate((lefthand_target, righthand_target, bothhand_target), axis=0)\n",
    "\n",
    "all_data = np.concatenate((lefthand_data, righthand_data, bothhand_data), axis=0)\n",
    "\n",
    "print(all_labels.shape)\n",
    "print(all_data.shape)"
   ]
  },
  {
   "cell_type": "markdown",
   "id": "621397b4-943c-410d-9449-2b6d50f2c508",
   "metadata": {},
   "source": [
    "### implementation of neural network algorithms in pytorch"
   ]
  },
  {
   "cell_type": "code",
   "execution_count": 47,
   "id": "b162552c-7b88-4ed7-8bcd-98f14c3c77fd",
   "metadata": {},
   "outputs": [
    {
     "name": "stdout",
     "output_type": "stream",
     "text": [
      "Accuracy: 0.9730517115804806\n"
     ]
    }
   ],
   "source": [
    "import torch\n",
    "import torch.nn as nn\n",
    "import torch.optim as optim\n",
    "from torch.utils.data import DataLoader, TensorDataset\n",
    "from sklearn.model_selection import train_test_split\n",
    "\n",
    "\n",
    "# Step 2: Splitting the dataset\n",
    "X_train, X_test, y_train, y_test = train_test_split(data, labels, test_size=0.2, random_state=42)\n",
    "\n",
    "# Convert numpy arrays to PyTorch tensors\n",
    "X_train = torch.from_numpy(X_train).float()\n",
    "X_test = torch.from_numpy(X_test).float()\n",
    "y_train = torch.from_numpy(y_train).long()\n",
    "y_test = torch.from_numpy(y_test).long()\n",
    "\n",
    "# Step 3: Designing the neural network architecture\n",
    "class GestureClassifier(nn.Module):\n",
    "    def __init__(self, num_classes):\n",
    "        super(GestureClassifier, self).__init__()\n",
    "        self.rnn = nn.LSTM(input_size=201, hidden_size=128, num_layers=2, batch_first=True)\n",
    "        self.fc = nn.Linear(128, num_classes)  # num_classes is the number of gesture classes\n",
    "\n",
    "    def forward(self, x):\n",
    "        _, (hidden, _) = self.rnn(x)\n",
    "        hidden = hidden[-1]  # Get the hidden state of the last LSTM layer\n",
    "        output = self.fc(hidden)\n",
    "        return output\n",
    "\n",
    "# Step 4: Training the neural network\n",
    "num_classes = 53  # Replace with the actual number of gesture classes\n",
    "num_epochs = 1000\n",
    "batch_size = 32\n",
    "learning_rate = 0.001\n",
    "\n",
    "model = GestureClassifier(num_classes)\n",
    "criterion = nn.CrossEntropyLoss()\n",
    "optimizer = optim.Adam(model.parameters(), lr=learning_rate)\n",
    "\n",
    "train_dataset = TensorDataset(X_train, y_train)\n",
    "train_loader = DataLoader(train_dataset, batch_size=batch_size, shuffle=True)\n",
    "\n",
    "model.train()\n",
    "for epoch in range(num_epochs):\n",
    "    for batch_X, batch_y in train_loader:\n",
    "        optimizer.zero_grad()\n",
    "        output = model(batch_X)\n",
    "        loss = criterion(output, batch_y)\n",
    "        loss.backward()\n",
    "        optimizer.step()\n",
    "\n",
    "# Step 5: Evaluating the model\n",
    "test_dataset = TensorDataset(X_test, y_test)\n",
    "test_loader = DataLoader(test_dataset, batch_size=batch_size)\n",
    "\n",
    "model.eval()\n",
    "total_correct = 0\n",
    "total_samples = 0\n",
    "\n",
    "with torch.no_grad():\n",
    "    for batch_X, batch_y in test_loader:\n",
    "        output = model(batch_X)\n",
    "        _, predicted = torch.max(output.data, 1)\n",
    "        total_samples += batch_y.size(0)\n",
    "        total_correct += (predicted == batch_y).sum().item()\n",
    "\n",
    "accuracy = total_correct / total_samples\n",
    "print(f\"Accuracy: {accuracy}\")\n"
   ]
  },
  {
   "cell_type": "markdown",
   "id": "f7afa7ca-81f9-4be4-bcfc-4bbc6373e94e",
   "metadata": {},
   "source": [
    "### confusion matrix "
   ]
  },
  {
   "cell_type": "code",
   "execution_count": 48,
   "id": "62c6b5c1-488a-4720-8447-eeb087260a1c",
   "metadata": {},
   "outputs": [
    {
     "data": {
      "image/png": "[encoded data removed]",
      "text/plain": [
       "<Figure size 640x480 with 2 Axes>"
      ]
     },
     "metadata": {},
     "output_type": "display_data"
    }
   ],
   "source": [
    "import numpy as np\n",
    "import matplotlib.pyplot as plt\n",
    "from sklearn.metrics import confusion_matrix\n",
    "\n",
    "model.eval()\n",
    "all_predictions = []\n",
    "all_labels = []\n",
    "\n",
    "with torch.no_grad():\n",
    "    for batch_X, batch_y in test_loader:\n",
    "        output = model(batch_X)\n",
    "        _, predicted = torch.max(output.data, 1)\n",
    "        all_predictions.extend(predicted.tolist())\n",
    "        all_labels.extend(batch_y.tolist())\n",
    "\n",
    "conf_matrix = confusion_matrix(all_labels, all_predictions)\n",
    "plt.imshow(conf_matrix, cmap='Blues')\n",
    "plt.xlabel('Predicted')\n",
    "plt.ylabel('True')\n",
    "plt.title('Confusion Matrix')\n",
    "plt.colorbar()\n",
    "plt.show()\n"
   ]
  },
  {
   "cell_type": "markdown",
   "id": "7546717c-28fd-4332-b493-d5603b89c7fd",
   "metadata": {},
   "source": [
    "### Precision, Recall, and F1-score:"
   ]
  },
  {
   "cell_type": "code",
   "execution_count": 49,
   "id": "ff162caa-39f4-41de-a606-8a2b216b2a76",
   "metadata": {},
   "outputs": [
    {
     "name": "stdout",
     "output_type": "stream",
     "text": [
      "              precision    recall  f1-score   support\n",
      "\n",
      "           0       1.00      1.00      1.00        32\n",
      "           1       1.00      1.00      1.00        28\n",
      "           2       1.00      1.00      1.00        28\n",
      "           3       1.00      1.00      1.00        30\n",
      "           4       0.91      1.00      0.95        29\n",
      "           5       0.96      1.00      0.98        24\n",
      "           6       1.00      1.00      1.00        36\n",
      "           7       1.00      1.00      1.00        26\n",
      "           8       0.97      1.00      0.98        29\n",
      "           9       1.00      1.00      1.00        23\n",
      "          10       1.00      1.00      1.00        33\n",
      "          11       1.00      0.96      0.98        28\n",
      "          12       1.00      1.00      1.00        28\n",
      "          13       0.92      1.00      0.96        22\n",
      "          14       1.00      1.00      1.00        21\n",
      "          15       1.00      1.00      1.00        20\n",
      "          16       1.00      1.00      1.00        27\n",
      "          17       0.95      1.00      0.98        21\n",
      "          18       1.00      1.00      1.00        25\n",
      "          19       0.90      0.67      0.77        27\n",
      "          20       0.89      0.84      0.86        19\n",
      "          22       1.00      0.93      0.96        29\n",
      "          23       1.00      1.00      1.00        31\n",
      "          24       1.00      1.00      1.00        27\n",
      "          25       1.00      1.00      1.00        29\n",
      "          26       1.00      1.00      1.00        29\n",
      "          27       1.00      1.00      1.00        53\n",
      "          28       0.96      1.00      0.98        27\n",
      "          29       0.96      0.93      0.95        29\n",
      "          30       1.00      0.95      0.98        22\n",
      "          31       0.92      0.96      0.94        24\n",
      "          32       0.74      0.88      0.81        26\n",
      "          33       0.86      0.86      0.86        29\n",
      "          34       1.00      0.95      0.97        20\n",
      "          35       1.00      1.00      1.00        23\n",
      "          36       1.00      1.00      1.00        19\n",
      "          37       1.00      1.00      1.00        18\n",
      "          38       0.97      1.00      0.98        28\n",
      "          39       1.00      0.96      0.98        27\n",
      "          40       0.96      1.00      0.98        23\n",
      "          41       1.00      0.97      0.98        32\n",
      "          42       0.97      1.00      0.99        39\n",
      "          43       0.88      0.84      0.86        25\n",
      "          44       0.88      0.91      0.89        23\n",
      "          46       1.00      1.00      1.00        21\n",
      "          47       1.00      1.00      1.00        34\n",
      "          48       1.00      1.00      1.00        27\n",
      "          49       1.00      0.97      0.98        29\n",
      "          50       1.00      1.00      1.00        27\n",
      "          51       1.00      0.96      0.98        25\n",
      "          52       1.00      1.00      1.00        22\n",
      "\n",
      "    accuracy                           0.97      1373\n",
      "   macro avg       0.97      0.97      0.97      1373\n",
      "weighted avg       0.97      0.97      0.97      1373\n",
      "\n"
     ]
    }
   ],
   "source": [
    "from sklearn.metrics import classification_report\n",
    "\n",
    "classification_rep = classification_report(all_labels, all_predictions)\n",
    "print(classification_rep)\n"
   ]
  },
  {
   "cell_type": "code",
   "execution_count": null,
   "id": "a2f97c24-fd24-4e62-ac18-1cdb324073cd",
   "metadata": {},
   "outputs": [],
   "source": []
  }
 ],
 "metadata": {
  "kernelspec": {
   "display_name": "Python 3 (ipykernel)",
   "language": "python",
   "name": "python3"
  },
  "language_info": {
   "codemirror_mode": {
    "name": "ipython",
    "version": 3
   },
   "file_extension": ".py",
   "mimetype": "text/x-python",
   "name": "python",
   "nbconvert_exporter": "python",
   "pygments_lexer": "ipython3",
   "version": "3.10.11"
  }
 },
 "nbformat": 4,
 "nbformat_minor": 5
}
