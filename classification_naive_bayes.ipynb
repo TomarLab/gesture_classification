{
 "cells": [
  {
   "cell_type": "code",
   "execution_count": 2,
   "metadata": {},
   "outputs": [],
   "source": [
    "## for data\n",
    "import pandas as pd\n",
    "import numpy as np\n",
    "\n",
    "## for statistical test\n",
    "import scipy\n",
    "\n",
    "## for machine learning\n",
    "from sklearn import model_selection, preprocessing, feature_selection, ensemble, linear_model, metrics, decomposition\n",
    "\n",
    "# import time\n",
    "# start_time = time.time()\n",
    "# # main()\n",
    "# print(\"--- %s seconds ---\" % (time.time() - start_time))"
   ]
  },
  {
   "cell_type": "code",
   "execution_count": 3,
   "metadata": {},
   "outputs": [
    {
     "name": "stdout",
     "output_type": "stream",
     "text": [
      "========================================\n",
      "2023-02-15 19:28:52 - Start Program\n",
      "========================================\n",
      "\n"
     ]
    }
   ],
   "source": [
    "## get time of a python program's execution\n",
    "\n",
    "import atexit\n",
    "from time import time, strftime, localtime\n",
    "from datetime import timedelta\n",
    "\n",
    "def secondsToStr(elapsed=None):\n",
    "    if elapsed is None:\n",
    "        return strftime(\"%Y-%m-%d %H:%M:%S\", localtime())\n",
    "    else:\n",
    "        return str(timedelta(seconds=elapsed))\n",
    "\n",
    "def log(s, elapsed=None):\n",
    "    line = \"=\"*40\n",
    "    print(line)\n",
    "    print(secondsToStr(), '-', s)\n",
    "    if elapsed:\n",
    "        print(\"Elapsed time:\", elapsed)\n",
    "    print(line)\n",
    "    print()\n",
    "\n",
    "def endlog():\n",
    "    end = time()\n",
    "    elapsed = end-start\n",
    "    log(\"End Program\", secondsToStr(elapsed))\n",
    "\n",
    "start = time()\n",
    "atexit.register(endlog)\n",
    "log(\"Start Program\")"
   ]
  },
  {
   "cell_type": "code",
   "execution_count": 4,
   "metadata": {},
   "outputs": [],
   "source": [
    "input_dict = pd.read_pickle(\"./input/gestures_4d_full.pkl\")"
   ]
  },
  {
   "cell_type": "code",
   "execution_count": 5,
   "metadata": {},
   "outputs": [
    {
     "name": "stdout",
     "output_type": "stream",
     "text": [
      "type of input_dict: <class 'dict'>\n",
      "keys: dict_keys(['labels', 'data'])\n"
     ]
    }
   ],
   "source": [
    "print(\"type of input_dict:\", type(input_dict))\n",
    "print(\"keys:\", input_dict.keys())"
   ]
  },
  {
   "cell_type": "code",
   "execution_count": 6,
   "metadata": {},
   "outputs": [
    {
     "name": "stdout",
     "output_type": "stream",
     "text": [
      "<class 'list'>\n",
      "<class 'numpy.ndarray'>\n"
     ]
    }
   ],
   "source": [
    "print(type(input_dict['labels']))\n",
    "print(type(input_dict['data']))"
   ]
  },
  {
   "cell_type": "code",
   "execution_count": 7,
   "metadata": {},
   "outputs": [
    {
     "name": "stdout",
     "output_type": "stream",
     "text": [
      "shape of ndarray: (7420, 120, 67, 3)\n"
     ]
    }
   ],
   "source": [
    "print(\"shape of ndarray:\", input_dict['data'].shape)"
   ]
  },
  {
   "cell_type": "code",
   "execution_count": 8,
   "metadata": {},
   "outputs": [],
   "source": [
    "# defineing labels id's of left, right and both side\n",
    "\n",
    "lefthand_idx = [2,5,8,18,20,23,26,29,31,33,35,37,39,41,44,52]\n",
    "righthand_idx = [1,4,7,9,17,19,22,25,28,30,32,34,36,38,40,43]\n",
    "bothhand_idx = [0,3,6,10,11,12,13,14,15,16,21,24,27,42,45,46,47,48,49,50,51]\n",
    "\n",
    "labels = np.array(input_dict['labels'])\n",
    "data = input_dict['data']"
   ]
  },
  {
   "cell_type": "code",
   "execution_count": 9,
   "metadata": {},
   "outputs": [],
   "source": [
    "# creating mask for left right and both hands\n",
    "# to filter the idx for each hands respectively \n",
    "\n",
    "\n",
    "mask = np.zeros_like(labels, dtype=bool)        # initialize mask with zeros\n",
    "for id in lefthand_idx:\n",
    "    maskid = labels == id\n",
    "    mask = mask + maskid\n",
    "\n",
    "lefthand_data = data[mask]\n",
    "lefthand_labels = labels[mask]\n",
    "\n",
    "\n",
    "mask = np.zeros_like(labels, dtype=bool)        # reset mask\n",
    "for id in righthand_idx:\n",
    "    maskid = labels == id\n",
    "    mask = mask + maskid\n",
    "\n",
    "righthand_data = data[mask]\n",
    "righthand_labels = labels[mask]\n",
    "\n",
    "\n",
    "mask = np.zeros_like(labels, dtype=bool)        # reset mask\n",
    "for id in bothhand_idx:\n",
    "    maskid = labels == id\n",
    "    mask = mask + maskid\n",
    "\n",
    "bothhand_data  = data[mask]\n",
    "bothhand_labels = labels[mask]\n"
   ]
  },
  {
   "cell_type": "code",
   "execution_count": 10,
   "metadata": {},
   "outputs": [
    {
     "name": "stdout",
     "output_type": "stream",
     "text": [
      "lefthand_data shape: (2053, 120, 67, 3)\n",
      "righthand_data shape: (2021, 120, 67, 3)\n",
      "bothhand_data shape: (3346, 120, 67, 3)\n",
      "sum_data shape: 7420\n",
      "lefthand_labels shape: (2053,)\n",
      "righthand_labels shape: (2021,)\n",
      "bothhand_labels shape: (3346,)\n"
     ]
    }
   ],
   "source": [
    "print(\"lefthand_data shape:\", lefthand_data.shape)\n",
    "print(\"righthand_data shape:\", righthand_data.shape)\n",
    "print(\"bothhand_data shape:\", bothhand_data.shape)\n",
    "\n",
    "print(\"sum_data shape:\", lefthand_data.shape[0] + righthand_data.shape[0] + bothhand_data.shape[0])\n",
    "\n",
    "print(\"lefthand_labels shape:\", lefthand_labels.shape)\n",
    "print(\"righthand_labels shape:\", righthand_labels.shape)\n",
    "print(\"bothhand_labels shape:\", bothhand_labels.shape)"
   ]
  },
  {
   "cell_type": "code",
   "execution_count": 11,
   "metadata": {},
   "outputs": [
    {
     "name": "stdout",
     "output_type": "stream",
     "text": [
      "(2053,)\n",
      "(2021,)\n",
      "(3346,)\n"
     ]
    }
   ],
   "source": [
    "# Defining labels into three-target-classes\n",
    "# lefthand_labels = -1\n",
    "# righthand_labels = 1\n",
    "# bothhand_labels = 0\n",
    "\n",
    "lefthand_target = np.ones_like(lefthand_labels) * -1\n",
    "righthand_target = np.ones_like(righthand_labels)\n",
    "bothhand_target = np.zeros_like(bothhand_labels)\n",
    "\n",
    "print(lefthand_target.shape)\n",
    "print(righthand_target.shape)\n",
    "print(bothhand_target.shape)"
   ]
  },
  {
   "cell_type": "code",
   "execution_count": 12,
   "metadata": {},
   "outputs": [
    {
     "name": "stdout",
     "output_type": "stream",
     "text": [
      "(7420,)\n",
      "(7420, 120, 67, 3)\n"
     ]
    }
   ],
   "source": [
    "all_labels = np.concatenate((lefthand_target, righthand_target, bothhand_target), axis=0)\n",
    "\n",
    "all_data = np.concatenate((lefthand_data, righthand_data, bothhand_data), axis=0)\n",
    "\n",
    "print(all_labels.shape)\n",
    "print(all_data.shape)"
   ]
  },
  {
   "cell_type": "code",
   "execution_count": 13,
   "metadata": {},
   "outputs": [],
   "source": [
    "from sklearn.model_selection import train_test_split\n",
    "\n",
    "## split the data into tain test set: cross validation\n",
    "train_data, test_data, train_labels, test_labels = train_test_split(all_data, all_labels, train_size=0.30, random_state=21)"
   ]
  },
  {
   "cell_type": "code",
   "execution_count": 14,
   "metadata": {},
   "outputs": [
    {
     "name": "stdout",
     "output_type": "stream",
     "text": [
      "(2226, 120, 67, 3)\n",
      "(5194, 120, 67, 3)\n",
      "(2226,)\n",
      "(5194,)\n"
     ]
    }
   ],
   "source": [
    "print(train_data.shape)\n",
    "print(test_data.shape)\n",
    "print(train_labels.shape)\n",
    "print(test_labels.shape)"
   ]
  },
  {
   "cell_type": "code",
   "execution_count": 15,
   "metadata": {},
   "outputs": [
    {
     "name": "stdout",
     "output_type": "stream",
     "text": [
      "train data reshape dim: (2226, 24120)\n",
      "test data reshape dim: (5194, 24120)\n"
     ]
    }
   ],
   "source": [
    "## classification model take 2d array as input\n",
    "## Reshape the 4-dimensional numpy array into a 2-dimensional numpy array\n",
    "\n",
    "train_2d = train_data.reshape(train_data.shape[0], -1)\n",
    "print(\"train data reshape dim:\", train_2d.shape)\n",
    "\n",
    "## Reshape the 4-d numpy-array into a 2-d numpy-array\n",
    "test_2d = test_data.reshape(test_data.shape[0],-1)\n",
    "print(\"test data reshape dim:\", test_2d.shape)"
   ]
  },
  {
   "attachments": {},
   "cell_type": "markdown",
   "metadata": {},
   "source": [
    "### Supervisd learning Naive Bayes Gaussian "
   ]
  },
  {
   "cell_type": "code",
   "execution_count": 16,
   "metadata": {},
   "outputs": [],
   "source": [
    "from sklearn.naive_bayes import GaussianNB\n",
    "\n",
    "## initlize our classifiers\n",
    "naive_bayes = GaussianNB()\n",
    "\n",
    "## train our classifier\n",
    "nb_model_all = naive_bayes.fit(train_2d, train_labels)     # naive-bayes_model_all-data TRAIN MODEL   "
   ]
  },
  {
   "cell_type": "code",
   "execution_count": 18,
   "metadata": {},
   "outputs": [
    {
     "name": "stdout",
     "output_type": "stream",
     "text": [
      "(5194,)\n"
     ]
    }
   ],
   "source": [
    "# Make predictions on the test data\n",
    "pred = naive_bayes.predict(test_2d)       # make prediction on test data using naive_bayes classifier\n",
    "\n",
    "print(pred.shape)"
   ]
  },
  {
   "cell_type": "code",
   "execution_count": 19,
   "metadata": {},
   "outputs": [],
   "source": [
    "## write a plotting function for confusion matrix\n",
    "\n",
    "import matplotlib.pyplot as plt\n",
    "\n",
    "def plot_confusion_matrix(cm, classes,\n",
    "                          normalize=False,\n",
    "                          title='Confusion matrix',\n",
    "                          cmap=plt.cm.Blues):\n",
    "\n",
    "    plt.imshow(cm, interpolation='nearest', cmap=cmap)\n",
    "    plt.title(title)\n",
    "    plt.colorbar()\n",
    "    tick_marks = np.arange(len(classes))\n",
    "    plt.xticks(tick_marks, classes, rotation=45)\n",
    "    plt.yticks(tick_marks, classes)\n",
    "\n",
    "    if normalize:\n",
    "        cm = cm.astype('float') / cm.sum(axis=1)[:, np.newaxis]\n",
    "        print(\"Normalized confusion matrix\")\n",
    "    else:\n",
    "        print('Confusion matrix, without normalization')\n",
    "\n",
    "    thresh = cm.max() / 2.\n",
    "    for i, j in itertools.product(range(cm.shape[0]), range(cm.shape[1])):\n",
    "        plt.text(j, i, cm[i, j],\n",
    "                 horizontalalignment=\"center\",\n",
    "                 color=\"white\" if cm[i, j] > thresh else \"black\")\n",
    "\n",
    "    plt.tight_layout()\n",
    "    plt.ylabel('True label')\n",
    "    plt.xlabel('Predicted label')"
   ]
  },
  {
   "cell_type": "code",
   "execution_count": 20,
   "metadata": {},
   "outputs": [
    {
     "name": "stdout",
     "output_type": "stream",
     "text": [
      "accuracy:   0.9128\n"
     ]
    }
   ],
   "source": [
    "from sklearn.metrics import accuracy_score, confusion_matrix\n",
    "import itertools\n",
    "\n",
    "score = accuracy_score(test_labels, pred)\n",
    "print(\"accuracy:   %0.4f\" % score)\n",
    "\n",
    "cm = confusion_matrix(test_labels, pred)\n"
   ]
  },
  {
   "cell_type": "code",
   "execution_count": 21,
   "metadata": {},
   "outputs": [
    {
     "name": "stdout",
     "output_type": "stream",
     "text": [
      "Confusion matrix, without normalization\n"
     ]
    },
    {
     "data": {
      "image/png": "[encoded data removed]",
      "text/plain": [
       "<Figure size 640x480 with 2 Axes>"
      ]
     },
     "metadata": {},
     "output_type": "display_data"
    }
   ],
   "source": [
    "plot_confusion_matrix(cm, classes=['0', '1', '-1'])"
   ]
  },
  {
   "attachments": {},
   "cell_type": "markdown",
   "metadata": {},
   "source": [
    "TSNE for reducing dimention "
   ]
  },
  {
   "cell_type": "code",
   "execution_count": 22,
   "metadata": {},
   "outputs": [],
   "source": [
    "from sklearn.manifold import TSNE\n",
    "\n",
    "# Load the data\n",
    "\n",
    "## Define the t-SNE model\n",
    "## n_components=3: This sets the number of dimensions of the output data to 3\n",
    "## learning_rate=200: controls tradeoff between the accuracy and speed of the optimization algorithm\n",
    "## perplexity=30: controls balance between local and global aspects of the data\n",
    "tsne = TSNE(n_components=3, perplexity=30, learning_rate=200)\n",
    "\n",
    "# Fit the model to the data\n",
    "train_tsne = tsne.fit_transform(train_2d)\n",
    "test_tsne = tsne.fit_transform(test_2d)\n"
   ]
  },
  {
   "cell_type": "code",
   "execution_count": 23,
   "metadata": {},
   "outputs": [
    {
     "name": "stdout",
     "output_type": "stream",
     "text": [
      "(2226, 3)\n",
      "(5194, 3)\n"
     ]
    }
   ],
   "source": [
    "print(train_tsne.shape)\n",
    "print(test_tsne.shape)"
   ]
  },
  {
   "cell_type": "code",
   "execution_count": 24,
   "metadata": {},
   "outputs": [],
   "source": [
    "from sklearn.naive_bayes import GaussianNB\n",
    "\n",
    "## initlize our classifiers\n",
    "naive_bayes = GaussianNB()\n",
    "\n",
    "## train our classifier\n",
    "nb_model_all = naive_bayes.fit(train_tsne, train_labels)     # naive-bayes_model_all-data TRAIN MODEL   "
   ]
  },
  {
   "cell_type": "code",
   "execution_count": 26,
   "metadata": {},
   "outputs": [
    {
     "name": "stdout",
     "output_type": "stream",
     "text": [
      "(5194,)\n"
     ]
    }
   ],
   "source": [
    "## Make predictions\n",
    "pred2 = naive_bayes.predict(test_tsne)       # make prediction on test data using naive_bayes classifier\n",
    "\n",
    "print(pred2.shape)"
   ]
  },
  {
   "cell_type": "code",
   "execution_count": 27,
   "metadata": {},
   "outputs": [
    {
     "name": "stdout",
     "output_type": "stream",
     "text": [
      "accuracy:   0.9680\n"
     ]
    }
   ],
   "source": [
    "from sklearn.metrics import accuracy_score, confusion_matrix\n",
    "import itertools\n",
    "\n",
    "score = accuracy_score(test_labels, preds2)\n",
    "print(\"accuracy:   %0.4f\" % score)\n",
    "\n",
    "cm = confusion_matrix(test_labels, preds2)\n"
   ]
  },
  {
   "cell_type": "code",
   "execution_count": 28,
   "metadata": {},
   "outputs": [
    {
     "name": "stdout",
     "output_type": "stream",
     "text": [
      "Confusion matrix, without normalization\n"
     ]
    },
    {
     "data": {
      "image/png": "[encoded data removed]",
      "text/plain": [
       "<Figure size 640x480 with 2 Axes>"
      ]
     },
     "metadata": {},
     "output_type": "display_data"
    }
   ],
   "source": [
    "plot_confusion_matrix(cm, classes=[0,1,-1])"
   ]
  },
  {
   "cell_type": "code",
   "execution_count": 29,
   "metadata": {},
   "outputs": [],
   "source": [
    "from sklearn.naive_bayes import GaussianNB\n",
    "from sklearn.svm import SVC\n",
    "\n",
    "naive_bayes = GaussianNB()\n",
    "# svc = SVC(kernel=\"rbf\", gamma=0.001)"
   ]
  },
  {
   "cell_type": "code",
   "execution_count": 30,
   "metadata": {},
   "outputs": [
    {
     "name": "stdout",
     "output_type": "stream",
     "text": [
      "(7420, 24120)\n"
     ]
    }
   ],
   "source": [
    "all_data_2d = all_data.reshape(all_data.shape[0], -1)\n",
    "print(all_data_2d.shape)"
   ]
  },
  {
   "cell_type": "code",
   "execution_count": 31,
   "metadata": {},
   "outputs": [],
   "source": [
    "from sklearn.manifold import TSNE\n",
    "\n",
    "# Load the data\n",
    "\n",
    "## Define the t-SNE model\n",
    "## n_components=3: This sets the number of dimensions of the output data to 3\n",
    "## learning_rate=200: controls tradeoff between the accuracy and speed of the optimization algorithm\n",
    "## perplexity=30: controls balance between local and global aspects of the data\n",
    "tsne = TSNE(n_components=3, perplexity=30, learning_rate=200)\n",
    "\n",
    "# Fit the model to the data\n",
    "all_data_tsne = tsne.fit_transform(all_data_2d)\n"
   ]
  },
  {
   "cell_type": "code",
   "execution_count": 32,
   "metadata": {},
   "outputs": [
    {
     "data": {
      "text/plain": [
       "(7420, 3)"
      ]
     },
     "execution_count": 32,
     "metadata": {},
     "output_type": "execute_result"
    }
   ],
   "source": [
    "all_data_tsne.shape"
   ]
  },
  {
   "attachments": {},
   "cell_type": "markdown",
   "metadata": {},
   "source": [
    "Learning Curve"
   ]
  },
  {
   "cell_type": "code",
   "execution_count": 33,
   "metadata": {},
   "outputs": [
    {
     "data": {
      "image/png": "[encoded data removed]",
      "text/plain": [
       "<Figure size 640x480 with 1 Axes>"
      ]
     },
     "metadata": {},
     "output_type": "display_data"
    }
   ],
   "source": [
    "import matplotlib.pyplot as plt\n",
    "import numpy as np\n",
    "from sklearn.model_selection import LearningCurveDisplay, ShuffleSplit\n",
    "\n",
    "# fig, ax = plt.subplots(nrows=1, ncols=2, figsize=(10, 6), sharey=True)\n",
    "fig, ax = plt.subplots()\n",
    "\n",
    "common_params = {\n",
    "    \"X\": train_tsne,\n",
    "    \"y\": train_labels,\n",
    "    \"train_sizes\": np.linspace(0.1, 0.6, 10),\n",
    "    \"cv\": ShuffleSplit(n_splits=50, test_size=0.7, random_state=0),\n",
    "    \"score_type\": \"both\",\n",
    "    \"n_jobs\": 4,\n",
    "    \"line_kw\": {\"marker\": \"o\"},\n",
    "    \"std_display_style\": \"fill_between\",\n",
    "    \"score_name\": \"Accuracy\",\n",
    "}\n",
    "\n",
    "for ax_idx, estimator in enumerate([naive_bayes]):\n",
    "    LearningCurveDisplay.from_estimator(estimator, **common_params, ax=ax)\n",
    "    handles, label = ax.get_legend_handles_labels()\n",
    "    ax.legend(handles[:2], [\"Training Score\", \"test Score\"])\n",
    "    ax.set_title(f\"Learning Curve for {estimator.__class__.__name__}\")"
   ]
  },
  {
   "cell_type": "code",
   "execution_count": null,
   "metadata": {},
   "outputs": [],
   "source": []
  }
 ],
 "metadata": {
  "kernelspec": {
   "display_name": "dev",
   "language": "python",
   "name": "python3"
  },
  "language_info": {
   "codemirror_mode": {
    "name": "ipython",
    "version": 3
   },
   "file_extension": ".py",
   "mimetype": "text/x-python",
   "name": "python",
   "nbconvert_exporter": "python",
   "pygments_lexer": "ipython3",
   "version": "3.10.9"
  },
  "orig_nbformat": 4,
  "vscode": {
   "interpreter": {
    "hash": "e1176a67bbd2a6fe32efce581af0cf1f9f925269612bed414e7c7f26f1b3341e"
   }
  }
 },
 "nbformat": 4,
 "nbformat_minor": 2
}
