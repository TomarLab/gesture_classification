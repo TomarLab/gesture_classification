{
 "cells": [
  {
   "cell_type": "code",
   "execution_count": 31,
   "metadata": {},
   "outputs": [],
   "source": [
    "## for data\n",
    "import pandas as pd\n",
    "import numpy as np\n",
    "\n",
    "## for statistical test\n",
    "import scipy\n",
    "\n",
    "## for machine learning\n",
    "from sklearn import model_selection, preprocessing, feature_selection, ensemble, linear_model, metrics, decomposition\n"
   ]
  },
  {
   "cell_type": "code",
   "execution_count": 32,
   "metadata": {},
   "outputs": [],
   "source": [
    "input_dict = pd.read_pickle(\"./input/gestures_4d_full.pkl\")"
   ]
  },
  {
   "cell_type": "code",
   "execution_count": 33,
   "metadata": {},
   "outputs": [
    {
     "name": "stdout",
     "output_type": "stream",
     "text": [
      "type of input_dict: <class 'dict'>\n",
      "keys: dict_keys(['labels', 'data'])\n"
     ]
    }
   ],
   "source": [
    "print(\"type of input_dict:\", type(input_dict))\n",
    "print(\"keys:\", input_dict.keys())"
   ]
  },
  {
   "cell_type": "code",
   "execution_count": 34,
   "metadata": {},
   "outputs": [
    {
     "name": "stdout",
     "output_type": "stream",
     "text": [
      "<class 'list'>\n",
      "<class 'numpy.ndarray'>\n"
     ]
    }
   ],
   "source": [
    "print(type(input_dict['labels']))\n",
    "print(type(input_dict['data']))"
   ]
  },
  {
   "cell_type": "code",
   "execution_count": 35,
   "metadata": {},
   "outputs": [
    {
     "name": "stdout",
     "output_type": "stream",
     "text": [
      "shape of ndarray: (7420, 120, 67, 3)\n"
     ]
    }
   ],
   "source": [
    "print(\"shape of ndarray:\", input_dict['data'].shape)"
   ]
  },
  {
   "cell_type": "code",
   "execution_count": 36,
   "metadata": {},
   "outputs": [],
   "source": [
    "# defineing labels id's of left, right and both side\n",
    "\n",
    "lefthand_labels = [2,5,8,18,20,23,26,29,31,33,35,37,39,41,44,52]\n",
    "righthand_labels = [1,4,7,9,17,19,22,25,28,30,32,34,36,38,40,43]\n",
    "bothhand_labels = [0,3,6,10,11,12,13,14,15,16,21,24,27,42,45,46,47,48,49,50,51]\n",
    "\n",
    "labels = np.array(input_dict['labels'])\n",
    "data = input_dict['data']"
   ]
  },
  {
   "cell_type": "code",
   "execution_count": 37,
   "metadata": {},
   "outputs": [],
   "source": [
    "# creating mask for left right and both hands\n",
    "# to filter the idx for each hands respectively \n",
    "\n",
    "\n",
    "mask = np.zeros_like(labels, dtype=bool)        # initialize mask with zeros\n",
    "for id in lefthand_labels:\n",
    "    maskid = labels == id\n",
    "    mask = mask + maskid\n",
    "\n",
    "lefthand_data = data[mask]\n",
    "lefthand_labels = labels[mask]\n",
    "\n",
    "\n",
    "mask = np.zeros_like(labels, dtype=bool)        # reset mask\n",
    "for id in righthand_labels:\n",
    "    maskid = labels == id\n",
    "    mask = mask + maskid\n",
    "\n",
    "righthand_data = data[mask]\n",
    "righthand_labels = labels[mask]\n",
    "\n",
    "\n",
    "mask = np.zeros_like(labels, dtype=bool)        # reset mask\n",
    "for id in bothhand_labels:\n",
    "    maskid = labels == id\n",
    "    mask = mask + maskid\n",
    "\n",
    "bothhand_data  = data[mask]\n",
    "bothhand_labels = labels[mask]\n"
   ]
  },
  {
   "cell_type": "code",
   "execution_count": 38,
   "metadata": {},
   "outputs": [
    {
     "name": "stdout",
     "output_type": "stream",
     "text": [
      "lefthand_data shape: (2053, 120, 67, 3)\n",
      "righthand_data shape: (2021, 120, 67, 3)\n",
      "bothhand_data shape: (3346, 120, 67, 3)\n",
      "sum_data shape: 7420\n",
      "lefthand_labels shape: (2053,)\n",
      "righthand_labels shape: (2021,)\n",
      "bothhand_labels shape: (3346,)\n"
     ]
    }
   ],
   "source": [
    "print(\"lefthand_data shape:\", lefthand_data.shape)\n",
    "print(\"righthand_data shape:\", righthand_data.shape)\n",
    "print(\"bothhand_data shape:\", bothhand_data.shape)\n",
    "\n",
    "print(\"sum_data shape:\", lefthand_data.shape[0] + righthand_data.shape[0] + bothhand_data.shape[0])\n",
    "\n",
    "print(\"lefthand_labels shape:\", lefthand_labels.shape)\n",
    "print(\"righthand_labels shape:\", righthand_labels.shape)\n",
    "print(\"bothhand_labels shape:\", bothhand_labels.shape)"
   ]
  },
  {
   "cell_type": "code",
   "execution_count": 39,
   "metadata": {},
   "outputs": [
    {
     "name": "stdout",
     "output_type": "stream",
     "text": [
      "(2053,)\n",
      "(2021,)\n",
      "(3346,)\n"
     ]
    }
   ],
   "source": [
    "# Defining labels into three target classes\n",
    "# lefthand_labels = -1\n",
    "# righthand_labels = 1\n",
    "# bothhand_labels = 0\n",
    "\n",
    "lefthand_target = np.ones_like(lefthand_labels) * -1\n",
    "righthand_target = np.ones_like(righthand_labels)\n",
    "bothhand_target = np.zeros_like(bothhand_labels)\n",
    "\n",
    "print(lefthand_target.shape)\n",
    "print(righthand_target.shape)\n",
    "print(bothhand_target.shape)"
   ]
  },
  {
   "cell_type": "code",
   "execution_count": 40,
   "metadata": {},
   "outputs": [
    {
     "name": "stdout",
     "output_type": "stream",
     "text": [
      "(7420,)\n",
      "(7420, 120, 67, 3)\n"
     ]
    }
   ],
   "source": [
    "all_labels = np.concatenate((lefthand_target, righthand_target, bothhand_target), axis=0)\n",
    "\n",
    "all_data = np.concatenate((lefthand_data, righthand_data, bothhand_data), axis=0)\n",
    "\n",
    "print(all_labels.shape)\n",
    "print(all_data.shape)"
   ]
  },
  {
   "cell_type": "code",
   "execution_count": 63,
   "metadata": {},
   "outputs": [],
   "source": [
    "from sklearn.model_selection import train_test_split\n",
    "\n",
    "## split the data into tain test set: cross validation\n",
    "train_data, test_data, train_labels, test_labels = train_test_split(all_data, all_labels, test_size=0.33, random_state=21)"
   ]
  },
  {
   "cell_type": "code",
   "execution_count": 64,
   "metadata": {},
   "outputs": [
    {
     "name": "stdout",
     "output_type": "stream",
     "text": [
      "(4971, 120, 67, 3)\n",
      "(2449, 120, 67, 3)\n",
      "(4971,)\n",
      "(2449,)\n"
     ]
    }
   ],
   "source": [
    "print(train_data.shape)\n",
    "print(test_data.shape)\n",
    "print(train_labels.shape)\n",
    "print(test_labels.shape)"
   ]
  },
  {
   "cell_type": "code",
   "execution_count": 71,
   "metadata": {},
   "outputs": [
    {
     "name": "stdout",
     "output_type": "stream",
     "text": [
      "train data reshape dim: (4971, 24120)\n",
      "test data reshape dim: (2449, 24120)\n"
     ]
    }
   ],
   "source": [
    "## Reshape the 4-dimensional numpy array into a 2-dimensional numpy array\n",
    "train = train.reshape(train_data.shape[0], -1)\n",
    "print(\"train data reshape dim:\", train.shape)\n",
    "\n",
    "## Reshape the 4-d numpy-array into a 2-d numpy-array\n",
    "test = test.reshape(test_data.shape[0],-1)\n",
    "print(\"test data reshape dim:\", test.shape)"
   ]
  },
  {
   "attachments": {},
   "cell_type": "markdown",
   "metadata": {},
   "source": [
    "### sklearn.naive_bayes.GaussianNB"
   ]
  },
  {
   "cell_type": "code",
   "execution_count": 72,
   "metadata": {},
   "outputs": [],
   "source": [
    "from sklearn.naive_bayes import GaussianNB\n",
    "\n",
    "## initlize our classifiers\n",
    "gnb = GaussianNB()\n",
    "\n",
    "## train our classifier\n",
    "model_all_gnb = gnb.fit(train, train_labels)"
   ]
  },
  {
   "cell_type": "code",
   "execution_count": 73,
   "metadata": {},
   "outputs": [
    {
     "name": "stdout",
     "output_type": "stream",
     "text": [
      "[ 1  0 -1 ... -1  0  0]\n"
     ]
    }
   ],
   "source": [
    "## Make predictions\n",
    "preds = gnb.predict(test)\n",
    "print(preds)"
   ]
  },
  {
   "cell_type": "code",
   "execution_count": 74,
   "metadata": {},
   "outputs": [],
   "source": [
    "## write a plotting function for confusion matrix\n",
    "\n",
    "import matplotlib.pyplot as plt\n",
    "\n",
    "def plot_confusion_matrix(cm, classes,\n",
    "                          normalize=False,\n",
    "                          title='Confusion matrix',\n",
    "                          cmap=plt.cm.Blues):\n",
    "\n",
    "    plt.imshow(cm, interpolation='nearest', cmap=cmap)\n",
    "    plt.title(title)\n",
    "    plt.colorbar()\n",
    "    tick_marks = np.arange(len(classes))\n",
    "    plt.xticks(tick_marks, classes, rotation=45)\n",
    "    plt.yticks(tick_marks, classes)\n",
    "\n",
    "    if normalize:\n",
    "        cm = cm.astype('float') / cm.sum(axis=1)[:, np.newaxis]\n",
    "        print(\"Normalized confusion matrix\")\n",
    "    else:\n",
    "        print('Confusion matrix, without normalization')\n",
    "\n",
    "    thresh = cm.max() / 2.\n",
    "    for i, j in itertools.product(range(cm.shape[0]), range(cm.shape[1])):\n",
    "        plt.text(j, i, cm[i, j],\n",
    "                 horizontalalignment=\"center\",\n",
    "                 color=\"white\" if cm[i, j] > thresh else \"black\")\n",
    "\n",
    "    plt.tight_layout()\n",
    "    plt.ylabel('True label')\n",
    "    plt.xlabel('Predicted label')"
   ]
  },
  {
   "cell_type": "code",
   "execution_count": 75,
   "metadata": {},
   "outputs": [
    {
     "name": "stdout",
     "output_type": "stream",
     "text": [
      "accuracy:   0.9159\n"
     ]
    }
   ],
   "source": [
    "from sklearn.metrics import accuracy_score, confusion_matrix\n",
    "import itertools\n",
    "\n",
    "score = accuracy_score(test_labels, preds)\n",
    "print(\"accuracy:   %0.4f\" % score)\n",
    "\n",
    "cm = confusion_matrix(test_labels, preds)\n"
   ]
  },
  {
   "cell_type": "code",
   "execution_count": 76,
   "metadata": {},
   "outputs": [
    {
     "name": "stdout",
     "output_type": "stream",
     "text": [
      "Confusion matrix, without normalization\n"
     ]
    },
    {
     "data": {
      "image/png": "[encoded data removed]",
      "text/plain": [
       "<Figure size 640x480 with 2 Axes>"
      ]
     },
     "metadata": {},
     "output_type": "display_data"
    }
   ],
   "source": [
    "plot_confusion_matrix(cm, classes=['0', '1', '-1'])"
   ]
  },
  {
   "cell_type": "code",
   "execution_count": 96,
   "metadata": {},
   "outputs": [],
   "source": [
    "from sklearn.manifold import TSNE\n",
    "\n",
    "# Load the data\n",
    "\n",
    "# Define the t-SNE model\n",
    "tsne = TSNE(n_components=2, perplexity=30, learning_rate=200)\n",
    "\n",
    "# Fit the model to the data\n",
    "train_tsne = tsne.fit_transform(train)"
   ]
  },
  {
   "cell_type": "code",
   "execution_count": 97,
   "metadata": {},
   "outputs": [],
   "source": [
    "from sklearn.naive_bayes import GaussianNB\n",
    "from sklearn.svm import SVC\n",
    "\n",
    "naive_bayes = GaussianNB()\n",
    "svc = SVC(kernel=\"rbf\", gamma=0.001)"
   ]
  },
  {
   "cell_type": "code",
   "execution_count": 98,
   "metadata": {},
   "outputs": [
    {
     "data": {
      "image/png": "[encoded data removed]",
      "text/plain": [
       "<Figure size 1000x600 with 2 Axes>"
      ]
     },
     "metadata": {},
     "output_type": "display_data"
    }
   ],
   "source": [
    "import matplotlib.pyplot as plt\n",
    "import numpy as np\n",
    "from sklearn.model_selection import LearningCurveDisplay, ShuffleSplit\n",
    "\n",
    "fig, ax = plt.subplots(nrows=1, ncols=2, figsize=(10, 6), sharey=True)\n",
    "\n",
    "common_params = {\n",
    "    \"X\": train_tsne,\n",
    "    \"y\": train_labels,\n",
    "    \"train_sizes\": np.linspace(0.1, 1.0, 5),\n",
    "    \"cv\": ShuffleSplit(n_splits=50, test_size=0.2, random_state=0),\n",
    "    \"score_type\": \"both\",\n",
    "    \"n_jobs\": 4,\n",
    "    \"line_kw\": {\"marker\": \"o\"},\n",
    "    \"std_display_style\": \"fill_between\",\n",
    "    \"score_name\": \"Accuracy\",\n",
    "}\n",
    "\n",
    "for ax_idx, estimator in enumerate([naive_bayes, svc]):\n",
    "    LearningCurveDisplay.from_estimator(estimator, **common_params, ax=ax[ax_idx])\n",
    "    handles, label = ax[ax_idx].get_legend_handles_labels()\n",
    "    ax[ax_idx].legend(handles[:2], [\"Training Score\", \"Test Score\"])\n",
    "    ax[ax_idx].set_title(f\"Learning Curve for {estimator.__class__.__name__}\")"
   ]
  },
  {
   "cell_type": "code",
   "execution_count": null,
   "metadata": {},
   "outputs": [],
   "source": []
  }
 ],
 "metadata": {
  "kernelspec": {
   "display_name": "dev",
   "language": "python",
   "name": "python3"
  },
  "language_info": {
   "codemirror_mode": {
    "name": "ipython",
    "version": 3
   },
   "file_extension": ".py",
   "mimetype": "text/x-python",
   "name": "python",
   "nbconvert_exporter": "python",
   "pygments_lexer": "ipython3",
   "version": "3.10.9"
  },
  "orig_nbformat": 4,
  "vscode": {
   "interpreter": {
    "hash": "e1176a67bbd2a6fe32efce581af0cf1f9f925269612bed414e7c7f26f1b3341e"
   }
  }
 },
 "nbformat": 4,
 "nbformat_minor": 2
}
